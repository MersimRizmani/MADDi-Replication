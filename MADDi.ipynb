{
 "cells": [
  {
   "cell_type": "markdown",
   "id": "10a26bac-5510-470a-aead-b0da9e8a1fdd",
   "metadata": {},
   "source": [
    "# Preprocessing"
   ]
  },
  {
   "cell_type": "code",
   "execution_count": 1,
   "id": "417b9312-b141-4828-91da-3293a603bcaa",
   "metadata": {},
   "outputs": [],
   "source": [
    "import pandas as pd\n",
    "import math"
   ]
  },
  {
   "cell_type": "code",
   "execution_count": 5,
   "id": "5423364c-0deb-4f96-b564-50d9f8b91d65",
   "metadata": {},
   "outputs": [],
   "source": [
    "clinical = pd.read_csv(\"CLINICAL_DATA.csv\").rename(columns={\"PHASE\":\"Phase\"})"
   ]
  },
  {
   "cell_type": "code",
   "execution_count": 9,
   "id": "6b672a36-ef21-47c6-85a0-7512e28f28e2",
   "metadata": {},
   "outputs": [],
   "source": [
    "def read_diagnose(file_path: str = 'DXSUM_PDXCONV_ADNIALL.csv', verbose=False):\n",
    "    # Read diagnostic summary\n",
    "    diagnostic_summary = pd.read_csv(file_path, index_col='PTID').rename(columns={\"PHASE\":\"Phase\"})\n",
    "    diagnostic_summary = diagnostic_summary.sort_values(by=[\"update_stamp\"], ascending=True)\n",
    "    # Create dictionary\n",
    "    diagnostic_dict: dict = {}\n",
    "    for key, data in diagnostic_summary.iterrows():\n",
    "        # Iterate for each row of the document\n",
    "        phase: str = data['Phase']\n",
    "        diagnosis = data['DIAGNOSIS']\n",
    "        # Update dictionary\n",
    "        if not math.isnan(diagnosis):\n",
    "            diagnostic_dict[key] = diagnosis\n",
    "    if verbose:\n",
    "        print_diagnostic_dict_summary(diagnostic_dict)\n",
    "    return diagnostic_dict"
   ]
  },
  {
   "cell_type": "code",
   "execution_count": 11,
   "id": "0e43b902-762e-419b-bed0-8c6694e83eb3",
   "metadata": {},
   "outputs": [],
   "source": [
    "d = read_diagnose(\"CLINICAL_DATA.csv\")"
   ]
  },
  {
   "cell_type": "code",
   "execution_count": 12,
   "id": "326c090b-036d-487c-8416-3ea97c094a05",
   "metadata": {},
   "outputs": [],
   "source": [
    "new = pd.DataFrame.from_dict(d, orient='index').reset_index()"
   ]
  },
  {
   "cell_type": "code",
   "execution_count": 13,
   "id": "5f013ef6-351c-45be-88b1-61ca21807fc0",
   "metadata": {},
   "outputs": [],
   "source": [
    "clinical[\"year\"] = clinical[\"EXAMDATE\"].str[:4]"
   ]
  },
  {
   "cell_type": "code",
   "execution_count": null,
   "id": "def5202e-356b-424f-993c-303825802b90",
   "metadata": {},
   "outputs": [],
   "source": []
  }
 ],
 "metadata": {
  "kernelspec": {
   "display_name": "Python 3 (ipykernel)",
   "language": "python",
   "name": "python3"
  },
  "language_info": {
   "codemirror_mode": {
    "name": "ipython",
    "version": 3
   },
   "file_extension": ".py",
   "mimetype": "text/x-python",
   "name": "python",
   "nbconvert_exporter": "python",
   "pygments_lexer": "ipython3",
   "version": "3.8.10"
  }
 },
 "nbformat": 4,
 "nbformat_minor": 5
}
