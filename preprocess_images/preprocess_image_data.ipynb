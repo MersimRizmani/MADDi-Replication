{
  "cells": [
    {
      "cell_type": "markdown",
      "id": "977404c9",
      "metadata": {
        "id": "977404c9"
      },
      "source": [
        "This notebook runs a preprocessing script in the first block and splits the imaging data into training and testing such that there are no repeating patients in the test set and that the patients in the test set do not appear in training."
      ]
    },
    {
      "cell_type": "code",
      "execution_count": null,
      "id": "sBc4MTZafcDx",
      "metadata": {
        "id": "sBc4MTZafcDx"
      },
      "outputs": [],
      "source": [
        "from google.colab import drive\n",
        "drive.mount('/content/drive')"
      ]
    },
    {
      "cell_type": "code",
      "execution_count": null,
      "id": "9CaLiQ3JZ5rs",
      "metadata": {
        "id": "9CaLiQ3JZ5rs"
      },
      "outputs": [],
      "source": [
        "import numpy as np\n",
        "import skimage.transform as skTrans\n",
        "import nibabel as nib\n",
        "import pandas as pd\n",
        "import random\n",
        "import os\n",
        "import sys\n",
        "import time"
      ]
    },
    {
      "cell_type": "code",
      "execution_count": null,
      "id": "5zx18Q-kaBiR",
      "metadata": {
        "id": "5zx18Q-kaBiR"
      },
      "outputs": [],
      "source": [
        "def normalize_img(img_array):\n",
        "    maxes = np.quantile(img_array,0.995,axis=(0,1,2))\n",
        "    #print(\"Max value for each modality\", maxes)\n",
        "    return img_array/maxes\n",
        "\n",
        "\n",
        "def create_dataset(meta, meta_all,path_to_datadir):\n",
        "    files = os.listdir(path_to_datadir)\n",
        "    start = '_'\n",
        "    end = '.nii'\n",
        "    for file in files:\n",
        "        print(file)\n",
        "        if file != '.DS_Store':\n",
        "            path = os.path.join(path_to_datadir, file)\n",
        "            print(path)\n",
        "            img_id = file.split(start)[-1].split(end)[0]\n",
        "            idx = meta[meta[\"Image Data ID\"] == img_id].index[0]\n",
        "            im = nib.load(path).get_fdata()\n",
        "            n_i, n_j, n_k = im.shape\n",
        "            center_i = (n_i - 1) // 2\n",
        "            center_j = (n_j - 1) // 2\n",
        "            center_k = (n_k - 1) // 2\n",
        "            im1 = skTrans.resize(im[center_i, :, :], (72, 72), order=1, preserve_range=True)\n",
        "            im2 = skTrans.resize(im[:, center_j, :], (72, 72), order=1, preserve_range=True)\n",
        "            im3 = skTrans.resize(im[:, :, center_k], (72, 72), order=1, preserve_range=True)\n",
        "            im = np.array([im1,im2,im3]).T\n",
        "            label = meta.at[idx, \"Group\"]\n",
        "            subject = meta.at[idx, \"Subject\"]\n",
        "            norm_im = normalize_img(im)\n",
        "            meta_all = meta_all.append({\"img_array\": im,\"label\": label,\"subject\":subject}, ignore_index=True)\n",
        "\n",
        "\n",
        "    meta_all.to_pickle('mri_meta.pkl')\n",
        "    # meta_all.flush()\n",
        "    # os.fsync(meta_all.fileno())\n",
        "    time.sleep(0.5)\n",
        "\n",
        "\n",
        "\n",
        "def main():\n",
        "    args = sys.argv[1:]\n",
        "    path_to_meta = args[0]\n",
        "    path_to_datadir = args[1]\n",
        "    print(path_to_meta)\n",
        "\n",
        "\n",
        "    meta = pd.read_csv('img_metadata.csv')\n",
        "    print(\"opened meta\")\n",
        "    print(len(meta))\n",
        "    #get rid of not needed columns\n",
        "    meta = meta[[\"Image Data ID\", \"Group\", \"Subject\"]] #MCI = 0, CN =1, AD = 2\n",
        "    meta[\"Group\"] = pd.factorize(meta[\"Group\"])[0]\n",
        "    #initialize new dataset where arrays will go\n",
        "    meta_all = pd.DataFrame(columns = [\"img_array\",\"label\",\"subject\"])\n",
        "    create_dataset(meta, meta_all, 'imgs')\n",
        "\n",
        "main()"
      ]
    },
    {
      "cell_type": "code",
      "execution_count": null,
      "id": "fdbdb14f-2376-480f-bd77-4644d46bef39",
      "metadata": {
        "id": "fdbdb14f-2376-480f-bd77-4644d46bef39"
      },
      "outputs": [],
      "source": [
        "#reading in a dataframe that contains image arrays, patient IDs (\"subject\"), and diagnosis\n",
        "m2 = pd.read_pickle(\"mri_meta.pkl\")\n",
        "\n",
        "#cleaning patient IDs\n",
        "m2[\"subject\"] = m2[\"subject\"].str.replace(\"s\", \"S\").str.replace(\"\\n\", \"\")\n",
        "\n",
        "#reading in the overlap test set\n",
        "ts = pd.read_csv(\"overlap_test_set.csv\")\n",
        "\n",
        "#removing ids from the overlap test set\n",
        "m2 = m2[~m2[\"subject\"].isin(list(ts[\"subject\"].values))]"
      ]
    },
    {
      "cell_type": "code",
      "execution_count": null,
      "id": "e456ba68-80d5-45eb-ba12-703912383a06",
      "metadata": {
        "id": "e456ba68-80d5-45eb-ba12-703912383a06"
      },
      "outputs": [],
      "source": [
        "#there are 551 unique patients\n",
        "subjects = list(set(m2[\"subject\"].values))\n",
        "len(subjects)"
      ]
    },
    {
      "cell_type": "code",
      "execution_count": null,
      "id": "e03e8f08-88a5-4642-a855-c2ab3de8fda7",
      "metadata": {
        "id": "e03e8f08-88a5-4642-a855-c2ab3de8fda7"
      },
      "outputs": [],
      "source": [
        "0.1*len(m2) #10% for testing"
      ]
    },
    {
      "cell_type": "markdown",
      "id": "b8c6615f-3f5e-422a-9d6c-8bba87eea1c5",
      "metadata": {
        "id": "b8c6615f-3f5e-422a-9d6c-8bba87eea1c5"
      },
      "source": [
        "We have 3674 MRI scans from 551 patients (some patients repeated up to 16 times).\n",
        "We selected our testing set such that it has 367 unique MRIs (10% of training) shwon below.\n",
        "We do not allow for any repeating patients in the testing set. We only allowed repetition during training, and no patient was included in both training and testing sets."
      ]
    },
    {
      "cell_type": "code",
      "execution_count": null,
      "id": "f02c4c2f-a9fc-45c6-b829-9f01486a1ede",
      "metadata": {
        "id": "f02c4c2f-a9fc-45c6-b829-9f01486a1ede"
      },
      "outputs": [],
      "source": [
        "#selecting 367 patient IDs\n",
        "picked_ids = random.sample(subjects, 26)"
      ]
    },
    {
      "cell_type": "code",
      "execution_count": null,
      "id": "c4e7d87c-21de-4001-bcd7-1c7df24ef03b",
      "metadata": {
        "id": "c4e7d87c-21de-4001-bcd7-1c7df24ef03b"
      },
      "outputs": [],
      "source": [
        "#creating the test set out of the patient IDs\n",
        "test = pd.DataFrame(columns = [\"img_array\", \"subject\", \"label\"])\n",
        "for i in range(len(picked_ids)):\n",
        "    s = m2[m2[\"subject\"] == picked_ids[i]].sample()\n",
        "    test = test.append(s)"
      ]
    },
    {
      "cell_type": "code",
      "execution_count": null,
      "id": "0f3ad6c8-0485-40cb-92fe-7dcf9175eaee",
      "metadata": {
        "id": "0f3ad6c8-0485-40cb-92fe-7dcf9175eaee"
      },
      "outputs": [],
      "source": [
        "indexes = list(set(m2.index) - set(test.index))"
      ]
    },
    {
      "cell_type": "code",
      "execution_count": null,
      "id": "4e8c7464-9a42-4e2b-b959-fd2841c04782",
      "metadata": {
        "id": "4e8c7464-9a42-4e2b-b959-fd2841c04782"
      },
      "outputs": [],
      "source": [
        "#creating the training set using all the other data points\n",
        "train = m2[m2.index.isin(indexes)]"
      ]
    },
    {
      "cell_type": "code",
      "execution_count": null,
      "id": "053234ec-61e9-401a-801b-f889ffbf1091",
      "metadata": {
        "id": "053234ec-61e9-401a-801b-f889ffbf1091"
      },
      "outputs": [],
      "source": [
        "train[[\"img_array\"]].to_pickle(\"img_train.pkl\")\n",
        "test[[\"img_array\"]].to_pickle(\"img_test.pkl\")"
      ]
    },
    {
      "cell_type": "code",
      "execution_count": null,
      "id": "7a90b7a9-cc67-4ca4-9b11-54f4bbf7e5d6",
      "metadata": {
        "id": "7a90b7a9-cc67-4ca4-9b11-54f4bbf7e5d6"
      },
      "outputs": [],
      "source": [
        "train[[\"label\"]].to_pickle(\"img_y_train.pkl\")\n",
        "test[[\"label\"]].to_pickle(\"img_y_test.pkl\")"
      ]
    }
  ],
  "metadata": {
    "colab": {
      "provenance": []
    },
    "kernelspec": {
      "display_name": "Python 3",
      "name": "python3"
    },
    "language_info": {
      "codemirror_mode": {
        "name": "ipython",
        "version": 3
      },
      "file_extension": ".py",
      "mimetype": "text/x-python",
      "name": "python",
      "nbconvert_exporter": "python",
      "pygments_lexer": "ipython3",
      "version": "3.10.5"
    }
  },
  "nbformat": 4,
  "nbformat_minor": 5
}
