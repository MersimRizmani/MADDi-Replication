{
  "cells": [
    {
      "cell_type": "code",
      "execution_count": null,
      "id": "6cfd763c",
      "metadata": {
        "id": "6cfd763c"
      },
      "outputs": [],
      "source": [
        "import pandas as pd\n",
        "import numpy as np\n",
        "from sklearn.model_selection import train_test_split\n",
        "from sklearn.preprocessing import StandardScaler\n",
        "from keras.models import Sequential\n",
        "from keras.layers import Dense,Dropout,MaxPooling1D, Flatten,BatchNormalization, GaussianNoise,Conv1D\n",
        "import matplotlib.pyplot as plt\n",
        "from tensorflow.keras.optimizers import Adam\n",
        "from tensorflow.keras.utils import to_categorical\n",
        "from sklearn.utils import compute_class_weight\n",
        "from tensorflow.keras import initializers\n",
        "from tensorflow.keras import regularizers\n",
        "from tensorflow.keras.models import Sequential, save_model, load_model\n",
        "from google.colab import drive\n",
        "drive.mount('/content/drive')"
      ]
    },
    {
      "cell_type": "code",
      "execution_count": null,
      "id": "4b2bf397-16cf-4283-8235-13e6301bf49b",
      "metadata": {
        "id": "4b2bf397-16cf-4283-8235-13e6301bf49b"
      },
      "outputs": [],
      "source": [
        "#this was created in general/diagnosis_making notebook\n",
        "diag = pd.read_csv(\"ground_truth.csv\").drop(\"Unnamed: 0\", axis=1)"
      ]
    },
    {
      "cell_type": "markdown",
      "id": "1b4facbe-e460-4b9e-8295-0b159f336a89",
      "metadata": {
        "id": "1b4facbe-e460-4b9e-8295-0b159f336a89"
      },
      "source": [
        "Below we are combining several clinical datasets."
      ]
    },
    {
      "cell_type": "code",
      "execution_count": null,
      "id": "fa4b7bb4-4f1c-4dfe-94f6-bff26f6e155c",
      "metadata": {
        "id": "fa4b7bb4-4f1c-4dfe-94f6-bff26f6e155c"
      },
      "outputs": [],
      "source": [
        "demo = pd.read_csv(\"PTDEMOG_12Apr2024.csv\")"
      ]
    },
    {
      "cell_type": "code",
      "execution_count": null,
      "id": "84188e78-fcfd-4bb2-ae93-8cba7dc6adea",
      "metadata": {
        "id": "84188e78-fcfd-4bb2-ae93-8cba7dc6adea"
      },
      "outputs": [],
      "source": [
        "neuro = pd.read_csv(\"NEUROEXM_12Apr2024.csv\")"
      ]
    },
    {
      "cell_type": "code",
      "execution_count": null,
      "id": "dfe73dfa-d1c9-4a58-b644-d61cb74783d6",
      "metadata": {
        "id": "dfe73dfa-d1c9-4a58-b644-d61cb74783d6"
      },
      "outputs": [],
      "source": [
        "neuro.columns"
      ]
    },
    {
      "cell_type": "code",
      "execution_count": null,
      "id": "e09e4f90-4b71-4eac-b523-e01a4d18d71c",
      "metadata": {
        "id": "e09e4f90-4b71-4eac-b523-e01a4d18d71c"
      },
      "outputs": [],
      "source": [
        "clinical = pd.read_csv(\"adsp.csv\")#.rename(columns={\"PHASE\":\"Phase\"})"
      ]
    },
    {
      "cell_type": "code",
      "execution_count": null,
      "id": "ef8c67b3-316b-4294-8af7-c70992d976c9",
      "metadata": {
        "id": "ef8c67b3-316b-4294-8af7-c70992d976c9"
      },
      "outputs": [],
      "source": [
        "clinical.head()"
      ]
    },
    {
      "cell_type": "code",
      "execution_count": null,
      "id": "8174678d-bb3a-4257-a65c-9b5b7c329ddd",
      "metadata": {
        "id": "8174678d-bb3a-4257-a65c-9b5b7c329ddd"
      },
      "outputs": [],
      "source": [
        "diag[\"Subject\"].value_counts()"
      ]
    },
    {
      "cell_type": "code",
      "execution_count": null,
      "id": "dc0bfc71-fc78-4de4-b8ea-dcc6cc684cb6",
      "metadata": {
        "id": "dc0bfc71-fc78-4de4-b8ea-dcc6cc684cb6"
      },
      "outputs": [],
      "source": [
        "comb = pd.read_csv(\"CLINICAL_DATA.csv\")[[\"RID\", \"PTID\" , \"PHASE\"]]"
      ]
    },
    {
      "cell_type": "code",
      "execution_count": null,
      "id": "c9606fab-0929-453f-9f5f-cbe935eba8d3",
      "metadata": {
        "id": "c9606fab-0929-453f-9f5f-cbe935eba8d3"
      },
      "outputs": [],
      "source": [
        "m = comb.merge(demo, on = [\"RID\", \"PHASE\"]).merge(neuro,on = [\"RID\", \"PHASE\"]).merge(clinical,on = [\"RID\", \"PHASE\"]).drop_duplicates()"
      ]
    },
    {
      "cell_type": "code",
      "execution_count": null,
      "id": "237ecaa4-718c-499f-9083-57ed9a7ae1d9",
      "metadata": {
        "id": "237ecaa4-718c-499f-9083-57ed9a7ae1d9"
      },
      "outputs": [],
      "source": [
        "m.columns = [c[:-2] if str(c).endswith(('_x','_y')) else c for c in m.columns]\n",
        "\n",
        "m = m.loc[:,~m.columns.duplicated()]"
      ]
    },
    {
      "cell_type": "code",
      "execution_count": null,
      "id": "9466e8ce-532f-44e2-86fc-7483dc16f232",
      "metadata": {
        "id": "9466e8ce-532f-44e2-86fc-7483dc16f232"
      },
      "outputs": [],
      "source": [
        "diag = diag.rename(columns = {\"Subject\": \"PTID\"})"
      ]
    },
    {
      "cell_type": "code",
      "execution_count": null,
      "id": "4e3e6ca5-56c5-4298-b36f-1edf0b09c9c1",
      "metadata": {
        "id": "4e3e6ca5-56c5-4298-b36f-1edf0b09c9c1"
      },
      "outputs": [],
      "source": [
        "m = m.merge(diag, on = [\"PTID\", \"PHASE\"])"
      ]
    },
    {
      "cell_type": "code",
      "execution_count": null,
      "id": "9ca5e7d1-f74b-49e4-ab98-66ac61788667",
      "metadata": {
        "id": "9ca5e7d1-f74b-49e4-ab98-66ac61788667"
      },
      "outputs": [],
      "source": [
        "m[\"PTID\"].value_counts()"
      ]
    },
    {
      "cell_type": "code",
      "execution_count": null,
      "id": "4ee16034-93c9-41bb-88a9-d810a938b227",
      "metadata": {
        "id": "4ee16034-93c9-41bb-88a9-d810a938b227"
      },
      "outputs": [],
      "source": [
        "t = m"
      ]
    },
    {
      "cell_type": "code",
      "execution_count": null,
      "id": "34bfedf8-9f93-4d34-83b6-cdf48c517115",
      "metadata": {
        "id": "34bfedf8-9f93-4d34-83b6-cdf48c517115"
      },
      "outputs": [],
      "source": [
        "t = t.drop([\"ID\",  \"SITEID\", \"VISCODE\", \"VISCODE2\", \"USERDATE\", \"USERDATE2\",\n",
        "            \"update_stamp\",  \"PTSOURCE\",\"DX\"], axis=1)"
      ]
    },
    {
      "cell_type": "code",
      "execution_count": null,
      "id": "eb94d03a-a0dc-4579-bddc-e7795e23b779",
      "metadata": {
        "id": "eb94d03a-a0dc-4579-bddc-e7795e23b779"
      },
      "outputs": [],
      "source": [
        "t.columns"
      ]
    },
    {
      "cell_type": "code",
      "execution_count": null,
      "id": "e142078e-7625-445c-a937-c4e639f3c119",
      "metadata": {
        "id": "e142078e-7625-445c-a937-c4e639f3c119"
      },
      "outputs": [],
      "source": [
        "t = t.fillna(-4)\n",
        "t = t.replace(\"-4\", -4)\n",
        "cols_to_delete = t.columns[(t == -4).sum()/len(t) > .70]\n",
        "t.drop(cols_to_delete, axis = 1, inplace = True)"
      ]
    },
    {
      "cell_type": "code",
      "execution_count": null,
      "id": "533b3163-9c32-44a2-ad26-a7507780cf9c",
      "metadata": {
        "id": "533b3163-9c32-44a2-ad26-a7507780cf9c"
      },
      "outputs": [],
      "source": [
        "len(t.columns)\n",
        "t.columns"
      ]
    },
    {
      "cell_type": "code",
      "execution_count": null,
      "id": "1b39ec23-4b41-4061-9c7f-7c25aadd9445",
      "metadata": {
        "id": "1b39ec23-4b41-4061-9c7f-7c25aadd9445"
      },
      "outputs": [],
      "source": [
        "categorical = ['PTGENDER',\n",
        " 'PTHOME',\n",
        " 'PTMARRY',\n",
        " 'PTEDUCAT',\n",
        " 'PTPLANG',\n",
        " 'NXVISUAL',\n",
        " 'PTNOTRT',\n",
        " 'NXTREMOR',\n",
        " 'NXAUDITO',\n",
        " 'PTHAND']"
      ]
    },
    {
      "cell_type": "code",
      "execution_count": null,
      "id": "b6fc83ae-7c3e-4aec-a5ec-5af93a881c31",
      "metadata": {
        "id": "b6fc83ae-7c3e-4aec-a5ec-5af93a881c31"
      },
      "outputs": [],
      "source": [
        "quant = ['PTDOBYY',\n",
        " 'PHC_MEM',\n",
        " 'PHC_EXF',\n",
        " 'PTRACCAT',\n",
        " 'AGE',\n",
        " 'PTADDX',\n",
        " 'PTETHCAT',\n",
        " 'PTCOGBEG',\n",
        " 'PHC_VSP',\n",
        " 'PHC_LAN']"
      ]
    },
    {
      "cell_type": "code",
      "execution_count": null,
      "id": "e2beb1b4-0666-4826-bdd3-12c680e4f000",
      "metadata": {
        "id": "e2beb1b4-0666-4826-bdd3-12c680e4f000"
      },
      "outputs": [],
      "source": [
        "text = [\"CMMED\"]"
      ]
    },
    {
      "cell_type": "code",
      "execution_count": null,
      "id": "05831e14-c9a1-4257-98eb-1d8b8f5e33cb",
      "metadata": {
        "id": "05831e14-c9a1-4257-98eb-1d8b8f5e33cb"
      },
      "outputs": [],
      "source": [
        "cols_left = list(set(t.columns) - set(categorical) - set(text)  - set([\"label\", \"Group\",\"GROUP\", \"PHASE\", \"RID\", \"PTID\"]))\n",
        "t[cols_left]"
      ]
    },
    {
      "cell_type": "code",
      "execution_count": null,
      "id": "b408fd4f-f667-48e9-896c-36a9877ae3e0",
      "metadata": {
        "id": "b408fd4f-f667-48e9-896c-36a9877ae3e0"
      },
      "outputs": [],
      "source": [
        "for col in cols_left:\n",
        "    if len(t[col].value_counts()) < 10:\n",
        "        print(col)\n",
        "        categorical.append(col)"
      ]
    },
    {
      "cell_type": "code",
      "execution_count": null,
      "id": "196cc98b-4c2d-4a60-be9d-09394f0cf0e7",
      "metadata": {
        "id": "196cc98b-4c2d-4a60-be9d-09394f0cf0e7"
      },
      "outputs": [],
      "source": [
        "to_del = [\"PTRTYR\", \"EXAMDATE\", \"SUBJECT_KEY\"]\n",
        "t = t.drop(to_del, axis=1)"
      ]
    },
    {
      "cell_type": "code",
      "execution_count": null,
      "id": "253e82e4-aac1-4fcb-83f2-0fd9274088eb",
      "metadata": {
        "id": "253e82e4-aac1-4fcb-83f2-0fd9274088eb"
      },
      "outputs": [],
      "source": [
        "quant = list(set(cols_left) - set(categorical) - set(text)  -set(to_del) - set([\"label\", \"Group\",\"GROUP\", \"PHASE\", \"RID\", \"PTID\"]))\n",
        "t[quant]"
      ]
    },
    {
      "cell_type": "code",
      "execution_count": null,
      "id": "ad35048c-9af8-40d2-aade-316c8c2205b9",
      "metadata": {
        "id": "ad35048c-9af8-40d2-aade-316c8c2205b9"
      },
      "outputs": [],
      "source": [
        "cols_left = list(set(cols_left) - set(categorical) - set(text) - set(quant) - set(to_del))"
      ]
    },
    {
      "cell_type": "code",
      "execution_count": null,
      "id": "9e021a34",
      "metadata": {
        "id": "9e021a34"
      },
      "outputs": [],
      "source": [
        "#after reviewing the meaning of each column, these are the final ones\n",
        "l = ['RID', 'PTID', 'Group', 'PHASE', 'PTGENDER', 'PTDOBYY', 'PTHAND',\n",
        "       'PTMARRY', 'PTEDUCAT', 'PTNOTRT', 'PTHOME', 'PTTLANG',\n",
        "       'PTPLANG', 'PTCOGBEG', 'PTETHCAT', 'PTRACCAT', 'NXVISUAL',\n",
        "       'NXAUDITO', 'NXTREMOR', 'NXCONSCI', 'NXNERVE', 'NXMOTOR', 'NXFINGER',\n",
        "       'NXHEEL', 'NXSENSOR', 'NXTENDON', 'NXPLANTA', 'NXGAIT',\n",
        "       'NXABNORM',  'PHC_MEM', 'PHC_EXF', 'PHC_LAN', 'PHC_VSP']"
      ]
    },
    {
      "cell_type": "code",
      "execution_count": null,
      "id": "0fda1d8f",
      "metadata": {
        "id": "0fda1d8f"
      },
      "outputs": [],
      "source": [
        "t[l]"
      ]
    },
    {
      "cell_type": "code",
      "execution_count": null,
      "id": "31cdfc41-ccfe-48b3-afd4-c322eab38909",
      "metadata": {
        "id": "31cdfc41-ccfe-48b3-afd4-c322eab38909"
      },
      "outputs": [],
      "source": [
        "dfs = []"
      ]
    },
    {
      "cell_type": "code",
      "execution_count": null,
      "id": "1018a35d-263a-4a62-aaa0-2c7a47f5a10d",
      "metadata": {
        "id": "1018a35d-263a-4a62-aaa0-2c7a47f5a10d"
      },
      "outputs": [],
      "source": [
        "for col in categorical:\n",
        "    dfs.append(pd.get_dummies(t[col], prefix = col))"
      ]
    },
    {
      "cell_type": "code",
      "execution_count": null,
      "id": "5b875eec-d52d-4172-b518-66971278cd43",
      "metadata": {
        "id": "5b875eec-d52d-4172-b518-66971278cd43"
      },
      "outputs": [],
      "source": [
        "cat = pd.concat(dfs, axis=1)"
      ]
    },
    {
      "cell_type": "code",
      "execution_count": null,
      "id": "5b827aa0-a976-4825-a28c-bfc449441639",
      "metadata": {
        "id": "5b827aa0-a976-4825-a28c-bfc449441639"
      },
      "outputs": [],
      "source": [
        "t[quant]"
      ]
    },
    {
      "cell_type": "code",
      "execution_count": null,
      "id": "f37bee95-d4cd-4999-b388-c190eacab453",
      "metadata": {
        "id": "f37bee95-d4cd-4999-b388-c190eacab453"
      },
      "outputs": [],
      "source": [
        "cat"
      ]
    },
    {
      "cell_type": "code",
      "execution_count": null,
      "id": "6b5a1415-e27e-4c6a-8c9b-87184a8af2e1",
      "metadata": {
        "id": "6b5a1415-e27e-4c6a-8c9b-87184a8af2e1"
      },
      "outputs": [],
      "source": [
        "t[[\"PTID\",\"RID\", \"PHASE\", \"Group\"]]"
      ]
    },
    {
      "cell_type": "code",
      "execution_count": null,
      "id": "cae61a87-7b62-46c8-8b74-6d687edbf06e",
      "metadata": {
        "id": "cae61a87-7b62-46c8-8b74-6d687edbf06e"
      },
      "outputs": [],
      "source": [
        "c = pd.concat([t[[\"PTID\", \"RID\", \"PHASE\", \"Group\"]].reset_index(), cat.reset_index(), t[quant].reset_index()], axis=1).drop(\"index\", axis=1) #tex"
      ]
    },
    {
      "cell_type": "code",
      "execution_count": null,
      "id": "8af0b682-ca05-460e-9929-0d06b17b3f28",
      "metadata": {
        "id": "8af0b682-ca05-460e-9929-0d06b17b3f28"
      },
      "outputs": [],
      "source": [
        "c"
      ]
    },
    {
      "cell_type": "code",
      "execution_count": null,
      "id": "0ad91066",
      "metadata": {
        "id": "0ad91066"
      },
      "outputs": [],
      "source": [
        "#removing repeating subjects, taking the most recent diagnosis\n",
        "c = c.groupby('PTID',\n",
        "                  group_keys=False).apply(lambda x: x.loc[x[\"Group\"].astype(int).idxmax()]).drop(\"PTID\", axis = 1).reset_index(inplace=False)"
      ]
    },
    {
      "cell_type": "code",
      "execution_count": null,
      "id": "0f44b459-a6ac-43a5-a254-c68b10eea1ee",
      "metadata": {
        "id": "0f44b459-a6ac-43a5-a254-c68b10eea1ee"
      },
      "outputs": [],
      "source": [
        "c.to_csv(\"clinical.csv\")"
      ]
    },
    {
      "cell_type": "code",
      "execution_count": null,
      "id": "904cc445-5299-4635-81d7-222d3ffc9352",
      "metadata": {
        "id": "904cc445-5299-4635-81d7-222d3ffc9352"
      },
      "outputs": [],
      "source": [
        "#reading in the overlap test set\n",
        "ts = pd.read_csv(\"overlap_test_set.csv\").rename(columns={\"subject\": \"PTID\"})\n",
        "\n",
        "#removing ids from the overlap test set\n",
        "c = c[~c[\"PTID\"].isin(list(ts[\"PTID\"].values))]"
      ]
    },
    {
      "cell_type": "code",
      "execution_count": null,
      "id": "7b32d73f-2e9a-4aca-a412-4543754f12b9",
      "metadata": {
        "id": "7b32d73f-2e9a-4aca-a412-4543754f12b9"
      },
      "outputs": [],
      "source": [
        "cols = list(set(c.columns) - set([\"PTID\",\"RID\",\"subject\", \"ID\",\"GROUP\", \"Group\", \"label\", \"PHASE\", \"SITEID\", \"VISCODE\", \"VISCODE2\", \"USERDATE\", \"USERDATE2\", \"update_stamp\", \"DX_x\",\"DX_y\", \"Unnamed: 0\"]))\n",
        "X = c[cols].values\n",
        "y = c[\"Group\"].astype(int).values\n",
        "\n",
        "\n",
        "X_train, X_test, y_train, y_test = train_test_split(X, y, test_size=0.1, random_state=42)"
      ]
    },
    {
      "cell_type": "code",
      "execution_count": null,
      "id": "66ac8e9f-10cd-4f12-9287-32403721264d",
      "metadata": {
        "id": "66ac8e9f-10cd-4f12-9287-32403721264d"
      },
      "outputs": [],
      "source": [
        "pd.DataFrame(X_train).to_pickle(\"X_train_c.pkl\")\n",
        "pd.DataFrame(y_train).to_pickle(\"y_train_c.pkl\")\n",
        "\n",
        "pd.DataFrame(X_test).to_pickle(\"X_test_c.pkl\")\n",
        "pd.DataFrame(y_test).to_pickle(\"y_test_c.pkl\")"
      ]
    }
  ],
  "metadata": {
    "colab": {
      "provenance": []
    },
    "kernelspec": {
      "display_name": "Python 3 (ipykernel)",
      "language": "python",
      "name": "python3"
    },
    "language_info": {
      "codemirror_mode": {
        "name": "ipython",
        "version": 3
      },
      "file_extension": ".py",
      "mimetype": "text/x-python",
      "name": "python",
      "nbconvert_exporter": "python",
      "pygments_lexer": "ipython3",
      "version": "3.10.5"
    }
  },
  "nbformat": 4,
  "nbformat_minor": 5
}
