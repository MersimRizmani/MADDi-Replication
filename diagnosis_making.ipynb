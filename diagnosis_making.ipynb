{
  "cells": [
    {
      "cell_type": "markdown",
      "id": "6cfe1498-f0cb-4dea-9f09-f6d6a46e69d5",
      "metadata": {
        "id": "6cfe1498-f0cb-4dea-9f09-f6d6a46e69d5"
      },
      "source": [
        "## Combbine all diagnosis"
      ]
    },
    {
      "cell_type": "markdown",
      "id": "bd11cf82",
      "metadata": {
        "id": "bd11cf82"
      },
      "source": [
        "This method take diagnosis from images, clinical, and diagnosis sheet, and creates one ground truth (where all three agree) and one majority vote (where two agree) diagnosis files."
      ]
    },
    {
      "cell_type": "code",
      "execution_count": null,
      "id": "efe04c25-57d6-413d-941d-253dae962131",
      "metadata": {
        "id": "efe04c25-57d6-413d-941d-253dae962131"
      },
      "outputs": [],
      "source": [
        "import pandas as pd\n",
        "import math\n",
        "from google.colab import drive\n",
        "drive.mount('/content/drive')\n",
        "\n",
        "clinical = pd.read_csv(\"adsp.csv\") #.rename(columns={\"PHASE\":\"Phase\"})\n",
        "#this file is the metadata file that one can get from downloading MRI images from ADNI\n",
        "img = pd.read_csv(\"img_metadata.csv\")\n",
        "comb = pd.read_csv(\"clinical_data.csv\")[[\"RID\", \"PTID\" , \"PHASE\"]]"
      ]
    },
    {
      "cell_type": "code",
      "execution_count": null,
      "id": "fe74db0e-9f96-41e6-a694-aec0cbe1605f",
      "metadata": {
        "id": "fe74db0e-9f96-41e6-a694-aec0cbe1605f"
      },
      "outputs": [],
      "source": [
        "def read_diagnose(file_path: str = 'clinical_data.csv', verbose=False):\n",
        "    # Read diagnostic summary\n",
        "    diagnostic_summary = pd.read_csv(file_path, index_col='PTID')\n",
        "    diagnostic_summary = diagnostic_summary.sort_values(by=[\"update_stamp\"], ascending=True)\n",
        "    # Create dictionary\n",
        "    diagnostic_dict: dict = {}\n",
        "    for key, data in diagnostic_summary.iterrows():\n",
        "        # Iterate for each row of the document\n",
        "        phase: str = data['PHASE']\n",
        "        diagnosis = data['DIAGNOSIS']\n",
        "        # Update dictionary\n",
        "        if not math.isnan(diagnosis):\n",
        "            diagnostic_dict[key] = diagnosis\n",
        "    if verbose:\n",
        "        print_diagnostic_dict_summary(diagnostic_dict)\n",
        "    return diagnostic_dict\n",
        "\n",
        "\n",
        "def print_diagnostic_dict_summary(diagnostic_dict: dict):\n",
        "    print(f\"Number of diagnosed patients: {len(diagnostic_dict.items())}\\n\")\n",
        "    n_NL = 0\n",
        "    n_MCI = 0\n",
        "    n_AD = 0\n",
        "    for (key, data) in diagnostic_dict.items():\n",
        "        if data == 1:\n",
        "            n_NL += 1\n",
        "        if data == 2:\n",
        "            n_MCI += 1\n",
        "        if data == 3:\n",
        "            n_AD += 1\n",
        "    print(f\"Number of NL patients: {n_NL}\\n\"\n",
        "          f\"Number of MCI patients: {n_MCI}\\n\"\n",
        "          f\"Number of AD patients: {n_AD}\\n\")"
      ]
    },
    {
      "cell_type": "code",
      "execution_count": null,
      "id": "3e0aa079-4001-469b-b683-4be139ab5686",
      "metadata": {
        "id": "3e0aa079-4001-469b-b683-4be139ab5686"
      },
      "outputs": [],
      "source": [
        "d = read_diagnose()\n",
        "print_diagnostic_dict_summary(d)"
      ]
    },
    {
      "cell_type": "code",
      "execution_count": null,
      "id": "192733b7-bdca-4fcc-9d83-4fc6dde34615",
      "metadata": {
        "id": "192733b7-bdca-4fcc-9d83-4fc6dde34615"
      },
      "outputs": [],
      "source": [
        "new = pd.DataFrame.from_dict(d, orient='index').reset_index()"
      ]
    },
    {
      "cell_type": "code",
      "execution_count": null,
      "id": "7ba6c638-8525-49d5-9dbf-5615406fe8ac",
      "metadata": {
        "id": "7ba6c638-8525-49d5-9dbf-5615406fe8ac"
      },
      "outputs": [],
      "source": [
        "clinical.head()"
      ]
    },
    {
      "cell_type": "code",
      "execution_count": null,
      "id": "2f57f2f7-261a-49d0-b460-5ceeeeda188b",
      "metadata": {
        "id": "2f57f2f7-261a-49d0-b460-5ceeeeda188b"
      },
      "outputs": [],
      "source": [
        "clinical[\"year\"] = clinical[\"EXAMDATE\"].str[:4]"
      ]
    },
    {
      "cell_type": "code",
      "execution_count": null,
      "id": "a5a64014-959a-4b4a-aa2f-d3ea1b024f49",
      "metadata": {
        "id": "a5a64014-959a-4b4a-aa2f-d3ea1b024f49"
      },
      "outputs": [],
      "source": [
        "clinical[\"Subject\"] = clinical[\"SUBJECT_KEY\"].str.replace(\"ADNI_\", \"\").str.replace(\"s\", \"S\")"
      ]
    },
    {
      "cell_type": "code",
      "execution_count": null,
      "id": "08f35069-5ed3-45c3-856a-e74a1630807c",
      "metadata": {
        "id": "08f35069-5ed3-45c3-856a-e74a1630807c"
      },
      "outputs": [],
      "source": [
        "c = comb.merge(clinical, on = [\"RID\", \"PHASE\"])"
      ]
    },
    {
      "cell_type": "code",
      "execution_count": null,
      "id": "a79d5bf8-1c86-4da2-a348-4e2c40199f5b",
      "metadata": {
        "id": "a79d5bf8-1c86-4da2-a348-4e2c40199f5b"
      },
      "outputs": [],
      "source": [
        "c = c.drop(\"Subject\", axis =1)\n",
        "# c[\"Subject\"]"
      ]
    },
    {
      "cell_type": "code",
      "execution_count": null,
      "id": "f700599f-3a5a-4fb0-b804-7cb1f0803121",
      "metadata": {
        "id": "f700599f-3a5a-4fb0-b804-7cb1f0803121"
      },
      "outputs": [],
      "source": [
        "c = c.rename(columns = {\"PTID\":\"Subject\"})"
      ]
    },
    {
      "cell_type": "code",
      "execution_count": null,
      "id": "614d4927-e2ae-4385-9ef6-1e4dbb09de2a",
      "metadata": {
        "id": "614d4927-e2ae-4385-9ef6-1e4dbb09de2a"
      },
      "outputs": [],
      "source": [
        "img[\"year\"] = img[\"Acq Date\"].str[5:].str.replace(\"/\", \"\")"
      ]
    },
    {
      "cell_type": "code",
      "execution_count": null,
      "id": "de9e6f5f-b1dc-4518-9607-83297bcea7d6",
      "metadata": {
        "id": "de9e6f5f-b1dc-4518-9607-83297bcea7d6"
      },
      "outputs": [],
      "source": [
        "img = img.replace([\"CN\", \"MCI\", \"AD\"], [ 0, 1, 2])"
      ]
    },
    {
      "cell_type": "code",
      "execution_count": null,
      "id": "8843c4a2-b07b-4f55-80f2-d5b2b105f29c",
      "metadata": {
        "id": "8843c4a2-b07b-4f55-80f2-d5b2b105f29c"
      },
      "outputs": [],
      "source": [
        "c[\"DX\"] = c[\"DX\"] -1"
      ]
    },
    {
      "cell_type": "code",
      "execution_count": null,
      "id": "af4f8c6f-078f-403f-9d0b-42bd1a3ab4e4",
      "metadata": {
        "id": "af4f8c6f-078f-403f-9d0b-42bd1a3ab4e4"
      },
      "outputs": [],
      "source": [
        "new[0] = new[0].astype(int) -1"
      ]
    },
    {
      "cell_type": "code",
      "execution_count": null,
      "id": "b2754cac-d38e-4fb9-a4b6-0bc9e9e192b2",
      "metadata": {
        "id": "b2754cac-d38e-4fb9-a4b6-0bc9e9e192b2"
      },
      "outputs": [],
      "source": [
        "new = new.rename(columns = {\"index\":\"Subject\", 0:\"GroupN\"})"
      ]
    },
    {
      "cell_type": "code",
      "execution_count": null,
      "id": "46a3733a-dc9f-4720-b2bf-9bf7ff16b1ef",
      "metadata": {
        "id": "46a3733a-dc9f-4720-b2bf-9bf7ff16b1ef"
      },
      "outputs": [],
      "source": [
        "m = new.merge(c, on = \"Subject\", how = \"outer\").merge(img, on = \"Subject\", how = \"outer\")"
      ]
    },
    {
      "cell_type": "code",
      "execution_count": null,
      "id": "3ca3eb93-d144-4df3-af48-7c8dc8341d19",
      "metadata": {
        "id": "3ca3eb93-d144-4df3-af48-7c8dc8341d19"
      },
      "outputs": [],
      "source": [
        "m[[\"GroupN\", \"DX\", \"Group\"]]"
      ]
    },
    {
      "cell_type": "code",
      "execution_count": null,
      "id": "fb89d6f4-968c-4c3a-89a5-b2d94d71bc08",
      "metadata": {
        "id": "fb89d6f4-968c-4c3a-89a5-b2d94d71bc08"
      },
      "outputs": [],
      "source": [
        "m = m[[\"Subject\", \"GroupN\", \"Group\", \"DX\", \"PHASE\"]].drop_duplicates()"
      ]
    },
    {
      "cell_type": "code",
      "execution_count": null,
      "id": "104fa42b-2599-4b7e-81e1-ec0a0ec1ef71",
      "metadata": {
        "id": "104fa42b-2599-4b7e-81e1-ec0a0ec1ef71"
      },
      "outputs": [],
      "source": [
        "m = m.dropna(subset = [\"GroupN\", \"Group\", \"DX\"], how=\"all\").drop_duplicates()\n",
        "m"
      ]
    },
    {
      "cell_type": "code",
      "execution_count": null,
      "id": "e1048f8c-3daf-48bf-939d-f25117afc729",
      "metadata": {
        "id": "e1048f8c-3daf-48bf-939d-f25117afc729"
      },
      "outputs": [],
      "source": [
        "m.loc[m[\"DX\"].isna() & m[\"Group\"].isna(), \"Group\"] = m.loc[m[\"DX\"].isna() & m[\"Group\"].isna(), \"GroupN\"]\n",
        "m.loc[m[\"DX\"].isna() & m[\"Group\"].isna(), \"DX\"] = m.loc[m[\"DX\"].isna() & m[\"Group\"].isna(), \"GroupN\"]"
      ]
    },
    {
      "cell_type": "code",
      "execution_count": null,
      "id": "77ed996f-f006-4815-a9ca-c886a110548a",
      "metadata": {
        "id": "77ed996f-f006-4815-a9ca-c886a110548a"
      },
      "outputs": [],
      "source": [
        "m1 = m[m[\"GroupN\"] == m[\"Group\"]]\n",
        "m3 = m[m[\"GroupN\"] == m[\"DX\"]]\n",
        "m4 = m[m[\"Group\"] == m[\"DX\"]]\n",
        "m2 = m1[m1[\"Group\"] == m1[\"DX\"]]"
      ]
    },
    {
      "cell_type": "code",
      "execution_count": null,
      "id": "baf23308-67b6-43fa-ace9-9637ee8364ab",
      "metadata": {
        "id": "baf23308-67b6-43fa-ace9-9637ee8364ab"
      },
      "outputs": [],
      "source": [
        "m1 = m1[[\"Subject\", \"GroupN\", \"Group\", \"DX\", \"PHASE\"]]\n",
        "m1"
      ]
    },
    {
      "cell_type": "code",
      "execution_count": null,
      "id": "88ba7e0c-ee41-4595-8a0f-3848d9fbeba7",
      "metadata": {
        "id": "88ba7e0c-ee41-4595-8a0f-3848d9fbeba7"
      },
      "outputs": [],
      "source": [
        "m1.loc[m1[\"DX\"].isna(), \"DX\"] = m1.loc[m1[\"DX\"].isna(), \"Group\"]"
      ]
    },
    {
      "cell_type": "code",
      "execution_count": null,
      "id": "82d8c823-35f5-41b9-b439-c0b5e13370c4",
      "metadata": {
        "id": "82d8c823-35f5-41b9-b439-c0b5e13370c4"
      },
      "outputs": [],
      "source": [
        "m3 = m3[[\"Subject\", \"GroupN\", \"Group\", \"DX\", \"PHASE\"]]\n",
        "m3"
      ]
    },
    {
      "cell_type": "code",
      "execution_count": null,
      "id": "7aabb579-0fc5-41ad-9cd4-ce820715977f",
      "metadata": {
        "id": "7aabb579-0fc5-41ad-9cd4-ce820715977f"
      },
      "outputs": [],
      "source": [
        "m3.loc[m3[\"Group\"].isna(), \"Group\"] = m3.loc[m3[\"Group\"].isna(), \"GroupN\"]"
      ]
    },
    {
      "cell_type": "code",
      "execution_count": null,
      "id": "cc88ae06-9ead-4fc9-b23b-456d8e9e87bd",
      "metadata": {
        "id": "cc88ae06-9ead-4fc9-b23b-456d8e9e87bd"
      },
      "outputs": [],
      "source": [
        "m4 = m4[[\"Subject\", \"GroupN\", \"Group\", \"DX\", \"PHASE\"]]\n",
        "m4"
      ]
    },
    {
      "cell_type": "code",
      "execution_count": null,
      "id": "ea3b75a3-e786-4d7f-be84-f12fc58dcd05",
      "metadata": {
        "id": "ea3b75a3-e786-4d7f-be84-f12fc58dcd05"
      },
      "outputs": [],
      "source": [
        "m4[m4[\"GroupN\"] != m4[\"DX\"]]"
      ]
    },
    {
      "cell_type": "code",
      "execution_count": null,
      "id": "149e3dc5-aced-4e41-8cd0-54f1f1e25561",
      "metadata": {
        "id": "149e3dc5-aced-4e41-8cd0-54f1f1e25561"
      },
      "outputs": [],
      "source": [
        "m2[[\"Subject\", \"GroupN\", \"Group\", \"DX\", \"PHASE\"]]"
      ]
    },
    {
      "cell_type": "code",
      "execution_count": null,
      "id": "c638c649-969b-416a-b2e4-ef7f31b67063",
      "metadata": {
        "id": "c638c649-969b-416a-b2e4-ef7f31b67063"
      },
      "outputs": [],
      "source": [
        "m5 = pd.concat([m1,m3,m4])\n",
        "i = m5[m5[\"Group\"] == m5[\"GroupN\"]]\n",
        "i = i[i[\"Group\"] == i[\"DX\"]]"
      ]
    },
    {
      "cell_type": "code",
      "execution_count": null,
      "id": "341ade32-d572-4550-92c2-4e9edd8d5704",
      "metadata": {
        "id": "341ade32-d572-4550-92c2-4e9edd8d5704"
      },
      "outputs": [],
      "source": [
        "i = i.drop_duplicates()"
      ]
    },
    {
      "cell_type": "code",
      "execution_count": null,
      "id": "cbd0ba2a-5bf0-4a52-93d7-19bf1c20be76",
      "metadata": {
        "id": "cbd0ba2a-5bf0-4a52-93d7-19bf1c20be76"
      },
      "outputs": [],
      "source": [
        "i"
      ]
    },
    {
      "cell_type": "code",
      "execution_count": null,
      "id": "0168ece6-5027-4b1d-b978-ea8d77a0c324",
      "metadata": {
        "id": "0168ece6-5027-4b1d-b978-ea8d77a0c324"
      },
      "outputs": [],
      "source": [
        "i[[\"Subject\", \"Group\", \"PHASE\"]].to_csv(\"ground_truth.csv\")"
      ]
    },
    {
      "cell_type": "code",
      "execution_count": null,
      "id": "324bd3df-f316-4033-8727-0c64b49b0c58",
      "metadata": {
        "id": "324bd3df-f316-4033-8727-0c64b49b0c58"
      },
      "outputs": [],
      "source": [
        "m.update(m5[~m5.index.duplicated(keep='first')])"
      ]
    },
    {
      "cell_type": "code",
      "execution_count": null,
      "id": "47ac4c83-59df-48da-89bd-c43ad5790b7e",
      "metadata": {
        "id": "47ac4c83-59df-48da-89bd-c43ad5790b7e"
      },
      "outputs": [],
      "source": [
        "indexes = m.index"
      ]
    },
    {
      "cell_type": "code",
      "execution_count": null,
      "id": "921ae1b1-5b87-4120-ba61-72d44ca8e746",
      "metadata": {
        "id": "921ae1b1-5b87-4120-ba61-72d44ca8e746"
      },
      "outputs": [],
      "source": [
        "#if none of the three diagnosis agree, then we set the value to -1\n",
        "m[\"GROUP\"] = -1"
      ]
    },
    {
      "cell_type": "code",
      "execution_count": null,
      "id": "56a53f45-886f-44a0-b352-31586f7de512",
      "metadata": {
        "tags": [],
        "id": "56a53f45-886f-44a0-b352-31586f7de512"
      },
      "outputs": [],
      "source": [
        "for i in indexes:\n",
        "    row = m.loc[i]\n",
        "    if (row[\"GroupN\"] == row[\"Group\"]):\n",
        "        val = row[\"GroupN\"]\n",
        "\n",
        "        m.loc[i, \"GROUP\"] = val\n",
        "    elif (row[\"GroupN\"] == row[\"DX\"]):\n",
        "        val = row[\"GroupN\"]\n",
        "        m.loc[i, \"GROUP\"] = val\n",
        "\n",
        "    elif (row[\"Group\"] == row[\"DX\"]):\n",
        "        val = row[\"Group\"]\n",
        "        m.loc[i, \"GROUP\"] = val\n"
      ]
    },
    {
      "cell_type": "code",
      "execution_count": null,
      "id": "bbb55e5d-5d81-4b28-a5c7-b57a8c895eed",
      "metadata": {
        "id": "bbb55e5d-5d81-4b28-a5c7-b57a8c895eed"
      },
      "outputs": [],
      "source": [
        "m5 = m5[~m5.index.duplicated(keep='first')]\n",
        "m5"
      ]
    },
    {
      "cell_type": "code",
      "execution_count": null,
      "id": "3686a6e9-2ed0-410b-be9d-ac24a3ca230f",
      "metadata": {
        "id": "3686a6e9-2ed0-410b-be9d-ac24a3ca230f"
      },
      "outputs": [],
      "source": [
        "m[m[\"GROUP\"] != -1]"
      ]
    },
    {
      "cell_type": "code",
      "execution_count": null,
      "id": "553d0140-5c90-4210-8b74-c922f96ebf35",
      "metadata": {
        "id": "553d0140-5c90-4210-8b74-c922f96ebf35"
      },
      "outputs": [],
      "source": [
        "m[[\"Subject\", \"GroupN\", \"Group\", \"DX\", \"GROUP\", \"PHASE\"]].to_csv(\"diagnosis_full.csv\")"
      ]
    },
    {
      "cell_type": "code",
      "source": [],
      "metadata": {
        "id": "Vpa5u_AVBCU6"
      },
      "id": "Vpa5u_AVBCU6",
      "execution_count": null,
      "outputs": []
    }
  ],
  "metadata": {
    "kernelspec": {
      "display_name": "Python 3 (ipykernel)",
      "language": "python",
      "name": "python3"
    },
    "language_info": {
      "codemirror_mode": {
        "name": "ipython",
        "version": 3
      },
      "file_extension": ".py",
      "mimetype": "text/x-python",
      "name": "python",
      "nbconvert_exporter": "python",
      "pygments_lexer": "ipython3",
      "version": "3.10.5"
    },
    "colab": {
      "provenance": []
    }
  },
  "nbformat": 4,
  "nbformat_minor": 5
}